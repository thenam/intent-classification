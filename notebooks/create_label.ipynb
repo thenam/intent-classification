{
 "cells": [
  {
   "cell_type": "markdown",
   "id": "b7143951",
   "metadata": {},
   "source": [
    "# Tổng hợp dữ liệu thành Label file"
   ]
  },
  {
   "cell_type": "code",
   "execution_count": 1,
   "id": "3ca9b41b",
   "metadata": {},
   "outputs": [],
   "source": [
    "import pandas as pd"
   ]
  },
  {
   "cell_type": "markdown",
   "id": "bd6b7f28",
   "metadata": {},
   "source": [
    "## Lấy dữ liệu từ file QA"
   ]
  },
  {
   "cell_type": "code",
   "execution_count": 2,
   "id": "7f7eea7a",
   "metadata": {},
   "outputs": [],
   "source": [
    "raw_data = pd.read_csv(\"../data/raw/all_qa_15-12-2024.csv\")"
   ]
  },
  {
   "cell_type": "code",
   "execution_count": 4,
   "id": "66eccd76",
   "metadata": {},
   "outputs": [
    {
     "data": {
      "text/html": [
       "<div>\n",
       "<style scoped>\n",
       "    .dataframe tbody tr th:only-of-type {\n",
       "        vertical-align: middle;\n",
       "    }\n",
       "\n",
       "    .dataframe tbody tr th {\n",
       "        vertical-align: top;\n",
       "    }\n",
       "\n",
       "    .dataframe thead th {\n",
       "        text-align: right;\n",
       "    }\n",
       "</style>\n",
       "<table border=\"1\" class=\"dataframe\">\n",
       "  <thead>\n",
       "    <tr style=\"text-align: right;\">\n",
       "      <th></th>\n",
       "      <th>topic</th>\n",
       "      <th>question</th>\n",
       "      <th>answer</th>\n",
       "      <th>doc_ref</th>\n",
       "    </tr>\n",
       "  </thead>\n",
       "  <tbody>\n",
       "    <tr>\n",
       "      <th>0</th>\n",
       "      <td>bccp_nd</td>\n",
       "      <td>Thời gian gửi bưu kiện trong nước là bao lâu?</td>\n",
       "      <td>Thời gian gửi bưu kiện trong nước phụ thuộc ...</td>\n",
       "      <td>**Thông tin tham khảo**\\n1. Văn bản số 2311/CV...</td>\n",
       "    </tr>\n",
       "    <tr>\n",
       "      <th>1</th>\n",
       "      <td>bccp_nd</td>\n",
       "      <td>Muốn gửi tài liệu đi hà nội theo đường bảo đảm...</td>\n",
       "      <td>Để gửi tài liệu đi Hà Nội theo đường bảo đảm...</td>\n",
       "      <td>**Thông tin tham khảo**\\n1. Văn bản số 4922/BĐ...</td>\n",
       "    </tr>\n",
       "    <tr>\n",
       "      <th>2</th>\n",
       "      <td>bccp_nd</td>\n",
       "      <td>Thời gian vận chuyển Miền Bắc và Miền Nam mất ...</td>\n",
       "      <td>Thời gian vận chuyển Miền Bắc và Miền Nam được...</td>\n",
       "      <td>Thông tin tham khảo\\n\\nVăn bản số 1487/BĐVN-DV...</td>\n",
       "    </tr>\n",
       "    <tr>\n",
       "      <th>3</th>\n",
       "      <td>bccp_nd</td>\n",
       "      <td>Gửi hàng cho người thân cần những gì?</td>\n",
       "      <td>Để gửi hàng cho người thân, bạn cần tuân the...</td>\n",
       "      <td>**Thông tin tham khảo**\\n1. Văn bản số 3133/BĐ...</td>\n",
       "    </tr>\n",
       "    <tr>\n",
       "      <th>4</th>\n",
       "      <td>bccp_nd</td>\n",
       "      <td>Vận chuyển bên BĐ có được hỗ trợ thu gom không?</td>\n",
       "      <td>Có, vận chuyển bên BĐ được hỗ trợ thu gom. Đ...</td>\n",
       "      <td>**Thông tin tham khảo**\\n1. Văn bản số 6789/BĐ...</td>\n",
       "    </tr>\n",
       "    <tr>\n",
       "      <th>...</th>\n",
       "      <td>...</td>\n",
       "      <td>...</td>\n",
       "      <td>...</td>\n",
       "      <td>...</td>\n",
       "    </tr>\n",
       "    <tr>\n",
       "      <th>1194</th>\n",
       "      <td>cccs</td>\n",
       "      <td>Tôi muốn biết Quy chế xây dựng, quản lý khai t...</td>\n",
       "      <td>Quy chế xây dựng, quản lý khai thác các hệ thố...</td>\n",
       "      <td>Văn bản số 43/QĐ-BĐVN-HĐTV  - ngày 04/5/2021 -...</td>\n",
       "    </tr>\n",
       "    <tr>\n",
       "      <th>1195</th>\n",
       "      <td>cccs</td>\n",
       "      <td>Quy chế xây dựng, quản lý khai thác các hệ thố...</td>\n",
       "      <td>Ông Nguyễn Hải Thanh - Chủ tịch Hội đồng thành...</td>\n",
       "      <td>Văn bản số 43/QĐ-BĐVN-HĐTV  - ngày 04/5/2021 -...</td>\n",
       "    </tr>\n",
       "    <tr>\n",
       "      <th>1196</th>\n",
       "      <td>cccs</td>\n",
       "      <td>Nguyên tắc xây dựng, cập nhật, quản lý, khai t...</td>\n",
       "      <td>Nguyên tắc xây dựng, cập nhật, quản lý, khai t...</td>\n",
       "      <td>Văn bản số 43/QĐ-BĐVN-HĐTV  - ngày 04/5/2021 -...</td>\n",
       "    </tr>\n",
       "    <tr>\n",
       "      <th>1197</th>\n",
       "      <td>cccs</td>\n",
       "      <td>Đơn vị nào có trách nhiệm tổ chức thực hiện vi...</td>\n",
       "      <td>Đơn vị thực hiện chức năng đầu mối thông tin c...</td>\n",
       "      <td>Văn bản số 43/QĐ-BĐVN-HĐTV  - ngày 04/5/2021 -...</td>\n",
       "    </tr>\n",
       "    <tr>\n",
       "      <th>1198</th>\n",
       "      <td>cccs</td>\n",
       "      <td>Thẩm quyền quyết định trong xây dựng, quản lý ...</td>\n",
       "      <td>Thẩm quyền quyết định trong xây dựng, quản lý ...</td>\n",
       "      <td>Văn bản số 43/QĐ-BĐVN-HĐTV  - ngày 04/5/2021 -...</td>\n",
       "    </tr>\n",
       "  </tbody>\n",
       "</table>\n",
       "<p>1199 rows × 4 columns</p>\n",
       "</div>"
      ],
      "text/plain": [
       "        topic                                           question  \\\n",
       "0     bccp_nd      Thời gian gửi bưu kiện trong nước là bao lâu?   \n",
       "1     bccp_nd  Muốn gửi tài liệu đi hà nội theo đường bảo đảm...   \n",
       "2     bccp_nd  Thời gian vận chuyển Miền Bắc và Miền Nam mất ...   \n",
       "3     bccp_nd              Gửi hàng cho người thân cần những gì?   \n",
       "4     bccp_nd    Vận chuyển bên BĐ có được hỗ trợ thu gom không?   \n",
       "...       ...                                                ...   \n",
       "1194     cccs  Tôi muốn biết Quy chế xây dựng, quản lý khai t...   \n",
       "1195     cccs  Quy chế xây dựng, quản lý khai thác các hệ thố...   \n",
       "1196     cccs  Nguyên tắc xây dựng, cập nhật, quản lý, khai t...   \n",
       "1197     cccs  Đơn vị nào có trách nhiệm tổ chức thực hiện vi...   \n",
       "1198     cccs  Thẩm quyền quyết định trong xây dựng, quản lý ...   \n",
       "\n",
       "                                                 answer  \\\n",
       "0       Thời gian gửi bưu kiện trong nước phụ thuộc ...   \n",
       "1       Để gửi tài liệu đi Hà Nội theo đường bảo đảm...   \n",
       "2     Thời gian vận chuyển Miền Bắc và Miền Nam được...   \n",
       "3       Để gửi hàng cho người thân, bạn cần tuân the...   \n",
       "4       Có, vận chuyển bên BĐ được hỗ trợ thu gom. Đ...   \n",
       "...                                                 ...   \n",
       "1194  Quy chế xây dựng, quản lý khai thác các hệ thố...   \n",
       "1195  Ông Nguyễn Hải Thanh - Chủ tịch Hội đồng thành...   \n",
       "1196  Nguyên tắc xây dựng, cập nhật, quản lý, khai t...   \n",
       "1197  Đơn vị thực hiện chức năng đầu mối thông tin c...   \n",
       "1198  Thẩm quyền quyết định trong xây dựng, quản lý ...   \n",
       "\n",
       "                                                doc_ref  \n",
       "0     **Thông tin tham khảo**\\n1. Văn bản số 2311/CV...  \n",
       "1     **Thông tin tham khảo**\\n1. Văn bản số 4922/BĐ...  \n",
       "2     Thông tin tham khảo\\n\\nVăn bản số 1487/BĐVN-DV...  \n",
       "3     **Thông tin tham khảo**\\n1. Văn bản số 3133/BĐ...  \n",
       "4     **Thông tin tham khảo**\\n1. Văn bản số 6789/BĐ...  \n",
       "...                                                 ...  \n",
       "1194  Văn bản số 43/QĐ-BĐVN-HĐTV  - ngày 04/5/2021 -...  \n",
       "1195  Văn bản số 43/QĐ-BĐVN-HĐTV  - ngày 04/5/2021 -...  \n",
       "1196  Văn bản số 43/QĐ-BĐVN-HĐTV  - ngày 04/5/2021 -...  \n",
       "1197  Văn bản số 43/QĐ-BĐVN-HĐTV  - ngày 04/5/2021 -...  \n",
       "1198  Văn bản số 43/QĐ-BĐVN-HĐTV  - ngày 04/5/2021 -...  \n",
       "\n",
       "[1199 rows x 4 columns]"
      ]
     },
     "execution_count": 4,
     "metadata": {},
     "output_type": "execute_result"
    }
   ],
   "source": [
    "raw_data"
   ]
  },
  {
   "cell_type": "code",
   "execution_count": 5,
   "id": "77e1bf7d",
   "metadata": {},
   "outputs": [
    {
     "name": "stdout",
     "output_type": "stream",
     "text": [
      "['bccp_nd', 'bccp_nd', 'bccp_nd', 'bccp_nd', 'bccp_nd', 'bccp_nd', 'bccp_nd', 'bccp_nd', 'bccp_nd', 'bccp_nd', 'bccp_nd', 'bccp_nd', 'bccp_nd', 'bccp_nd', 'bccp_nd', 'bccp_nd', 'bccp_nd', 'bccp_nd', 'bccp_nd', 'bccp_nd', 'bccp_nd', 'bccp_nd', 'bccp_nd', 'bccp_nd', 'bccp_nd', 'bccp_nd', 'bccp_nd', 'bccp_nd', 'bccp_nd', 'bccp_nd', 'bccp_nd', 'bccp_nd', 'bccp_nd', 'bccp_nd', 'bccp_nd', 'bccp_nd', 'bccp_nd', 'bccp_nd', 'bccp_nd', 'bccp_nd', 'bccp_nd', 'bccp_nd', 'bccp_nd', 'bccp_nd', 'bccp_nd', 'bccp_nd', 'bccp_nd', 'bccp_nd', 'bccp_nd', 'bccp_nd', 'bccp_nd', 'bccp_nd', 'bccp_nd', 'bccp_nd', 'bccp_nd', 'bccp_nd', 'bccp_nd', 'bccp_nd', 'bccp_nd', 'bccp_nd', 'bccp_nd', 'bccp_nd', 'bccp_nd', 'bccp_nd', 'bccp_nd', 'bccp_nd', 'bccp_nd', 'bccp_nd', 'bccp_nd', 'bccp_nd', 'bccp_nd', 'bccp_nd', 'bccp_nd', 'bccp_nd', 'bccp_nd', 'bccp_nd', 'bccp_nd', 'bccp_nd', 'bccp_nd', 'bccp_nd', 'bccp_nd', 'bccp_nd', 'bccp_nd', 'bccp_nd', 'bccp_nd', 'bccp_nd', 'bccp_nd', 'bccp_nd', 'bccp_nd', 'bccp_nd', 'bccp_nd', 'bccp_nd', 'bccp_nd', 'bccp_nd', 'bccp_nd', 'bccp_nd', 'bccp_nd', 'bccp_nd', 'bccp_nd', 'bccp_nd', 'bccp_nd', 'bccp_nd', 'bccp_nd', 'bccp_nd', 'bccp_nd', 'bccp_nd', 'bccp_nd', 'bccp_nd', 'bccp_nd', 'bccp_nd', 'bccp_nd', 'bccp_nd', 'bccp_nd', 'bccp_nd', 'bccp_nd', 'bccp_nd', 'bccp_nd', 'bccp_nd', 'bccp_nd', 'bccp_nd', 'bccp_nd', 'bccp_nd', 'bccp_nd', 'bccp_nd', 'bccp_nd', 'bccp_nd', 'bccp_nd', 'bccp_nd', 'bccp_nd', 'bccp_nd', 'bccp_nd', 'bccp_nd', 'bccp_nd', 'bccp_nd', 'bccp_nd', 'bccp_nd', 'bccp_nd', 'bccp_nd', 'bccp_nd', 'bccp_nd', 'bccp_nd', 'bccp_nd', 'bccp_nd', 'bccp_nd', 'bccp_nd', 'bccp_nd', 'bccp_nd', 'bccp_nd', 'bccp_nd', 'bccp_nd', 'bccp_nd', 'bccp_nd', 'bccp_nd', 'bccp_nd', 'bccp_nd', 'bccp_nd', 'bccp_nd', 'bccp_nd', 'bccp_nd', 'bccp_nd', 'bccp_nd', 'bccp_nd', 'bccp_nd', 'bccp_nd', 'bccp_nd', 'bccp_nd', 'bccp_nd', 'bccp_nd', 'bccp_nd', 'bccp_nd', 'bccp_nd', 'bccp_nd', 'bccp_nd', 'bccp_nd', 'bccp_nd', 'bccp_nd', 'bccp_nd', 'bccp_nd', 'bccp_nd', 'bccp_nd', 'bccp_nd', 'bccp_nd', 'bccp_nd', 'bccp_nd', 'bccp_nd', 'bccp_nd', 'bccp_nd', 'bccp_nd', 'bccp_nd', 'bccp_nd', 'bccp_nd', 'bccp_nd', 'bccp_nd', 'bccp_nd', 'bccp_nd', 'bccp_nd', 'bccp_nd', 'bccp_nd', 'bccp_nd', 'bccp_nd', 'bccp_nd', 'bccp_nd', 'bccp_nd', 'bccp_nd', 'bccp_nd', 'bccp_nd', 'bccp_nd', 'bccp_nd', 'bccp_nd', 'bccp_nd', 'bccp_nd', 'bccp_nd', 'bccp_nd', 'bccp_nd', 'bccp_nd', 'bccp_nd', 'bccp_nd', 'bccp_nd', 'bccp_nd', 'bccp_nd', 'bccp_nd', 'bccp_nd', 'bccp_nd', 'bccp_nd', 'bccp_nd', 'bccp_nd', 'bccp_nd', 'bccp_nd', 'bccp_nd', 'bccp_nd', 'bccp_nd', 'bccp_nd', 'bccp_nd', 'bccp_nd', 'bccp_nd', 'bccp_nd', 'bccp_nd', 'bccp_nd', 'bccp_nd', 'bccp_nd', 'bccp_nd', 'bccp_nd', 'bccp_nd', 'bccp_nd', 'bccp_nd', 'bccp_nd', 'bccp_nd', 'bccp_nd', 'bccp_nd', 'bccp_nd', 'bccp_nd', 'bccp_nd', 'bccp_nd', 'bccp_nd', 'bccp_nd', 'bccp_nd', 'bccp_nd', 'bccp_nd', 'bccp_nd', 'bccp_nd', 'bccp_nd', 'bccp_nd', 'bccp_nd', 'bccp_nd', 'bccp_nd', 'bccp_nd', 'bccp_nd', 'bccp_nd', 'bccp_nd', 'bccp_nd', 'bccp_nd', 'bccp_nd', 'bccp_nd', 'bccp_nd', 'bccp_nd', 'bccp_nd', 'bccp_nd', 'bccp_nd', 'bccp_nd', 'bccp_nd', 'bccp_nd', 'bccp_nd', 'bccp_nd', 'bccp_nd', 'bccp_nd', 'bccp_nd', 'bccp_nd', 'bccp_nd', 'bccp_nd', 'bccp_nd', 'bccp_nd', 'bccp_nd', 'bccp_nd', 'bccp_nd', 'bccp_nd', 'bccp_nd', 'bccp_nd', 'bccp_nd', 'bccp_nd', 'bccp_nd', 'bccp_nd', 'bccp_nd', 'bccp_nd', 'bccp_nd', 'bccp_nd', 'bccp_nd', 'bccp_nd', 'bccp_nd', 'bccp_nd', 'bccp_nd', 'bccp_nd', 'bccp_nd', 'bccp_nd', 'bccp_nd', 'bccp_nd', 'bccp_nd', 'bccp_nd', 'bccp_nd', 'bccp_nd', 'bccp_nd', 'bccp_nd', 'bccp_nd', 'bccp_nd', 'bccp_nd', 'bccp_nd', 'bccp_nd', 'bccp_nd', 'bccp_nd', 'bccp_nd', 'bccp_nd', 'bccp_nd', 'bccp_nd', 'bccp_nd', 'bccp_nd', 'bccp_nd', 'bccp_nd', 'bccp_nd', 'bccp_nd', 'bccp_nd', 'bccp_qt', 'bccp_qt', 'bccp_qt', 'bccp_qt', 'bccp_qt', 'bccp_qt', 'bccp_qt', 'bccp_qt', 'bccp_qt', 'bccp_qt', 'bccp_qt', 'bccp_qt', 'bccp_qt', 'bccp_qt', 'bccp_qt', 'bccp_qt', 'bccp_qt', 'bccp_qt', 'bccp_qt', 'bccp_qt', 'bccp_qt', 'bccp_qt', 'bccp_qt', 'bccp_qt', 'bccp_qt', 'bccp_qt', 'bccp_qt', 'bccp_qt', 'bccp_qt', 'bccp_qt', 'bccp_qt', 'bccp_qt', 'bccp_qt', 'bccp_qt', 'bccp_qt', 'bccp_qt', 'bccp_qt', 'bccp_qt', 'bccp_qt', 'bccp_qt', 'bccp_qt', 'bccp_qt', 'bccp_qt', 'bccp_qt', 'bccp_qt', 'bccp_qt', 'bccp_qt', 'bccp_qt', 'bccp_qt', 'bccp_qt', 'bccp_qt', 'bccp_qt', 'bccp_qt', 'bccp_qt', 'bccp_qt', 'bccp_qt', 'bccp_qt', 'bccp_qt', 'bccp_qt', 'bccp_qt', 'bccp_qt', 'bccp_qt', 'bccp_qt', 'bccp_qt', 'bccp_qt', 'bccp_qt', 'bccp_qt', 'bccp_qt', 'bccp_qt', 'bccp_qt', 'bccp_qt', 'bccp_qt', 'bccp_qt', 'bccp_qt', 'bccp_qt', 'bccp_qt', 'bccp_qt', 'bccp_qt', 'bccp_qt', 'bccp_qt', 'bccp_qt', 'bccp_qt', 'bccp_qt', 'bccp_qt', 'bccp_qt', 'tcbc', 'tcbc', 'tcbc', 'tcbc', 'tcbc', 'tcbc', 'tcbc', 'tcbc', 'tcbc', 'tcbc', 'tcbc', 'tcbc', 'tcbc', 'tcbc', 'tcbc', 'tcbc', 'tcbc', 'tcbc', 'tcbc', 'tcbc', 'tcbc', 'tcbc', 'tcbc', 'tcbc', 'tcbc', 'tcbc', 'tcbc', 'tcbc', 'tcbc', 'tcbc', 'tcbc', 'tcbc', 'tcbc', 'tcbc', 'tcbc', 'tcbc', 'tcbc', 'tcbc', 'tcbc', 'tcbc', 'tcbc', 'tcbc', 'tcbc', 'tcbc', 'tcbc', 'tcbc', 'tcbc', 'tcbc', 'tcbc', 'tcbc', 'tcbc', 'tcbc', 'tcbc', 'tcbc', 'tcbc', 'tcbc', 'tcbc', 'tcbc', 'tcbc', 'tcbc', 'tcbc', 'tcbc', 'tcbc', 'tcbc', 'tcbc', 'tcbc', 'tcbc', 'tcbc', 'tcbc', 'tcbc', 'tcbc', 'tcbc', 'tcbc', 'tcbc', 'tcbc', 'tcbc', 'tcbc', 'tcbc', 'tcbc', 'tcbc', 'tcbc', 'tcbc', 'tcbc', 'tcbc', 'tcbc', 'tcbc', 'tcbc', 'tcbc', 'tcbc', 'tcbc', 'tcbc', 'tcbc', 'tcbc', 'tcbc', 'tcbc', 'tcbc', 'tcbc', 'tcbc', 'tcbc', 'tcbc', 'tcbc', 'tcbc', 'tcbc', 'tcbc', 'tcbc', 'tcbc', 'tcbc', 'tcbc', 'tcbc', 'tcbc', 'tcbc', 'tcbc', 'tcbc', 'tcbc', 'tcbc', 'tcbc', 'tcbc', 'tcbc', 'tcbc', 'tcbc', 'tcbc', 'tcbc', 'tcbc', 'tcbc', 'tcbc', 'tcbc', 'tcbc', 'tcbc', 'tcbc', 'tcbc', 'tcbc', 'tcbc', 'tcbc', 'tcbc', 'tcbc', 'tcbc', 'tcbc', 'tcbc', 'tcbc', 'tcbc', 'tcbc', 'tcbc', 'tcbc', 'tcbc', 'tcbc', 'tcbc', 'tcbc', 'tcbc', 'tcbc', 'tcbc', 'tcbc', 'tcbc', 'tcbc', 'tcbc', 'tcbc', 'tcbc', 'tcbc', 'tcbc', 'tcbc', 'tcbc', 'tcbc', 'tcbc', 'tcbc', 'tcbc', 'tcbc', 'tcbc', 'tcbc', 'tcbc', 'tcbc', 'tcbc', 'tcbc', 'tcbc', 'tcbc', 'tcbc', 'tcbc', 'tcbc', 'tcbc', 'tcbc', 'tcbc', 'tcbc', 'tcbc', 'tcbc', 'tcbc', 'tcbc', 'tcbc', 'tcbc', 'tcbc', 'tcbc', 'tcbc', 'tcbc', 'tcbc', 'tcbc', 'tcbc', 'tcbc', 'tcbc', 'tcbc', 'tcbc', 'tcbc', 'tcbc', 'tcbc', 'tcbc', 'tcbc', 'tcbc', 'tcbc', 'tcbc', 'tcbc', 'tcbc', 'tcbc', 'tcbc', 'tcbc', 'tcbc', 'tcbc', 'tcbc', 'tcbc', 'tcbc', 'tcbc', 'tcbc', 'tcbc', 'tcbc', 'tcbc', 'tcbc', 'tcbc', 'tcbc', 'tcbc', 'tcbc', 'tcbc', 'tcbc', 'tcbc', 'tcbc', 'tcbc', 'tcbc', 'tcbc', 'tcbc', 'tcbc', 'tcbc', 'tcbc', 'tcbc', 'tcbc', 'tcbc', 'tcbc', 'tcbc', 'tcbc', 'tcbc', 'tcbc', 'tcbc', 'tcbc', 'tcbc', 'tcbc', 'tcbc', 'tcbc', 'tcbc', 'tcbc', 'tcbc', 'tcbc', 'tcbc', 'tcbc', 'tcbc', 'tcbc', 'tcbc', 'tcbc', 'tcbc', 'tcbc', 'tcbc', 'tcbc', 'tcbc', 'tcbc', 'tcbc', 'tcbc', 'tcbc', 'tcbc', 'tcbc', 'tcbc', 'tcbc', 'tcbc', 'tcbc', 'tcbc', 'tcbc', 'tcbc', 'tcbc', 'tcbc', 'tcbc', 'tcbc', 'tcbc', 'tcbc', 'tcbc', 'tcbc', 'tcbc', 'tcbc', 'tcbc', 'tcbc', 'tcbc', 'tcbc', 'tcbc', 'tcbc', 'tcbc', 'tcbc', 'tcbc', 'tcbc', 'tcbc', 'tcbc', 'tcbc', 'tcbc', 'tcbc', 'tcbc', 'tcbc', 'tcbc', 'tcbc', 'tcbc', 'tcbc', 'tcbc', 'tcbc', 'tcbc', 'tcbc', 'tcbc', 'tcbc', 'tcbc', 'tcbc', 'tcbc', 'tcbc', 'tcbc', 'tcbc', 'tcbc', 'tcbc', 'tcbc', 'tcbc', 'tcbc', 'tcbc', 'tcbc', 'tcbc', 'tcbc', 'tcbc', 'tcbc', 'tcbc', 'tcbc', 'tcbc', 'tcbc', 'tcbc', 'tcbc', 'tcbc', 'tcbc', 'tcbc', 'ppbl', 'ppbl', 'ppbl', 'ppbl', 'ppbl', 'ppbl', 'ppbl', 'ppbl', 'ppbl', 'ppbl', 'ppbl', 'ppbl', 'ppbl', 'ppbl', 'ppbl', 'ppbl', 'hcc', 'hcc', 'hcc', 'hcc', 'hcc', 'hcc', 'hcc', 'hcc', 'hcc', 'hcc', 'hcc', 'hcc', 'hcc', 'hcc', 'hcc', 'hcc', 'hcc', 'hcc', 'hcc', 'hcc', 'hcc', 'hcc', 'hcc', 'hcc', 'hcc', 'hcc', 'hcc', 'hcc', 'hcc', 'hcc', 'hcc', 'hcc', 'hcc', 'hcc', 'hcc', 'hcc', 'hcc', 'hcc', 'hcc', 'hcc', 'hcc', 'hcc', 'hcc', 'hcc', 'hcc', 'hcc', 'hcc', 'hcc', 'hcc', 'hcc', 'hcc', 'hcc', 'hcc', 'hcc', 'hcc', 'hcc', 'hcc', 'hcc', 'hcc', 'hcc', 'hcc', 'hcc', 'hcc', 'hcc', 'hcc', 'hcc', 'hcc', 'hcc', 'hcc', 'hcc', 'hcc', 'hcc', 'hcc', 'hcc', 'hcc', 'hcc', 'hcc', 'hcc', 'hcc', 'hcc', 'hcc', 'hcc', 'hcc', 'hcc', 'cccs', 'cccs', 'cccs', 'cccs', 'cccs', 'cccs', 'cccs', 'cccs', 'cccs', 'cccs', 'cccs', 'cccs', 'cccs', 'cccs', 'cccs', 'cccs', 'cccs', 'cccs', 'cccs', 'cccs', 'cccs', 'cccs', 'cccs', 'cccs', 'cccs', 'cccs', 'cccs', 'cccs', 'cccs', 'cccs', 'cccs', 'cccs', 'cccs', 'cccs', 'cccs', 'cccs', 'cccs', 'cccs', 'cccs', 'cccs', 'cccs', 'cccs', 'cccs', 'cccs', 'cccs', 'cccs', 'cccs', 'cccs', 'cccs', 'cccs', 'cccs', 'cccs', 'cccs', 'cccs', 'cccs', 'cccs', 'cccs', 'cccs', 'cccs', 'cccs', 'cccs', 'cccs', 'cccs', 'cccs', 'cccs', 'cccs', 'cccs', 'cccs', 'cccs', 'cccs', 'cccs', 'cccs', 'cccs', 'cccs', 'cccs', 'cccs', 'cccs', 'cccs', 'cccs', 'cccs', 'cccs', 'cccs', 'cccs', 'cccs', 'cccs', 'cccs', 'cccs', 'cccs', 'cccs', 'cccs', 'cccs', 'cccs', 'cccs', 'cccs', 'cccs', 'cccs', 'cccs', 'cccs', 'cccs', 'cccs', 'cccs', 'cccs', 'cccs', 'cccs', 'cccs', 'cccs', 'cccs', 'cccs', 'cccs', 'cccs', 'cccs', 'cccs', 'cccs', 'cccs', 'cccs', 'cccs', 'cccs', 'cccs', 'cccs', 'cccs', 'cccs', 'cccs', 'cccs', 'cccs', 'cccs', 'cccs', 'cccs', 'cccs', 'cccs', 'cccs', 'cccs', 'cccs', 'cccs', 'cccs', 'cccs', 'cccs', 'cccs', 'cccs', 'cccs', 'cccs', 'cccs', 'cccs', 'cccs', 'cccs', 'cccs', 'cccs', 'cccs', 'cccs', 'cccs', 'cccs', 'cccs', 'cccs', 'cccs', 'cccs', 'cccs', 'cccs', 'cccs', 'cccs', 'cccs', 'cccs', 'cccs', 'cccs', 'cccs', 'cccs', 'cccs', 'cccs', 'cccs', 'cccs', 'cccs', 'cccs', 'cccs', 'cccs', 'cccs', 'cccs', 'cccs', 'cccs', 'cccs', 'cccs', 'cccs', 'cccs', 'cccs', 'cccs', 'cccs', 'cccs', 'cccs', 'cccs', 'cccs', 'cccs', 'cccs', 'cccs', 'cccs', 'cccs', 'cccs', 'cccs', 'cccs', 'cccs', 'cccs', 'cccs', 'cccs', 'cccs', 'cccs', 'cccs', 'cccs', 'cccs', 'cccs', 'cccs', 'cccs', 'cccs', 'cccs', 'cccs', 'cccs', 'cccs', 'cccs', 'cccs', 'cccs', 'cccs', 'cccs', 'cccs', 'cccs', 'cccs', 'cccs', 'cccs', 'cccs', 'cccs', 'cccs', 'cccs', 'cccs', 'cccs', 'cccs', 'cccs', 'cccs', 'cccs', 'cccs', 'cccs', 'cccs', 'cccs', 'cccs', 'cccs', 'cccs', 'cccs', 'cccs', 'cccs', 'cccs', 'cccs', 'cccs', 'cccs', 'cccs', 'cccs', 'cccs', 'cccs', 'cccs', 'cccs', 'cccs', 'cccs', 'cccs', 'cccs', 'cccs', 'cccs', 'cccs', 'cccs', 'cccs', 'cccs', 'cccs', 'cccs', 'cccs', 'cccs', 'cccs', 'cccs', 'cccs', 'cccs', 'cccs', 'cccs', 'cccs', 'cccs', 'cccs', 'cccs', 'cccs', 'cccs', 'cccs', 'cccs', 'cccs', 'cccs', 'cccs', 'cccs', 'cccs', 'cccs', 'cccs', 'cccs', 'cccs', 'cccs', 'cccs', 'cccs', 'cccs', 'cccs', 'cccs', 'cccs', 'cccs', 'cccs', 'cccs', 'cccs', 'cccs', 'cccs', 'cccs', 'cccs', 'cccs', 'cccs', 'cccs', 'cccs', 'cccs', 'cccs', 'cccs', 'cccs', 'cccs', 'cccs', 'cccs', 'cccs', 'cccs', 'cccs', 'cccs', 'cccs', 'cccs', 'cccs', 'cccs', 'cccs', 'cccs', 'cccs', 'cccs', 'cccs', 'cccs', 'cccs', 'cccs', 'cccs', 'cccs', 'cccs']\n"
     ]
    }
   ],
   "source": [
    "raw_data[\"topic\"]\n",
    "print(list(raw_data[\"topic\"]))"
   ]
  },
  {
   "cell_type": "code",
   "execution_count": 6,
   "id": "5ce5276c",
   "metadata": {},
   "outputs": [
    {
     "data": {
      "text/plain": [
       "0           Thời gian gửi bưu kiện trong nước là bao lâu?\n",
       "1       Muốn gửi tài liệu đi hà nội theo đường bảo đảm...\n",
       "2       Thời gian vận chuyển Miền Bắc và Miền Nam mất ...\n",
       "3                   Gửi hàng cho người thân cần những gì?\n",
       "4         Vận chuyển bên BĐ có được hỗ trợ thu gom không?\n",
       "                              ...                        \n",
       "1194    Tôi muốn biết Quy chế xây dựng, quản lý khai t...\n",
       "1195    Quy chế xây dựng, quản lý khai thác các hệ thố...\n",
       "1196    Nguyên tắc xây dựng, cập nhật, quản lý, khai t...\n",
       "1197    Đơn vị nào có trách nhiệm tổ chức thực hiện vi...\n",
       "1198    Thẩm quyền quyết định trong xây dựng, quản lý ...\n",
       "Name: question, Length: 1199, dtype: object"
      ]
     },
     "execution_count": 6,
     "metadata": {},
     "output_type": "execute_result"
    }
   ],
   "source": [
    "raw_data[\"question\"]"
   ]
  },
  {
   "cell_type": "code",
   "execution_count": 7,
   "id": "1ebbc37e",
   "metadata": {},
   "outputs": [
    {
     "name": "stdout",
     "output_type": "stream",
     "text": [
      "                                                   text    label\n",
      "0         Thời gian gửi bưu kiện trong nước là bao lâu?  bccp_nd\n",
      "1     Muốn gửi tài liệu đi hà nội theo đường bảo đảm...  bccp_nd\n",
      "2     Thời gian vận chuyển Miền Bắc và Miền Nam mất ...  bccp_nd\n",
      "3                 Gửi hàng cho người thân cần những gì?  bccp_nd\n",
      "4       Vận chuyển bên BĐ có được hỗ trợ thu gom không?  bccp_nd\n",
      "...                                                 ...      ...\n",
      "1194  Tôi muốn biết Quy chế xây dựng, quản lý khai t...     cccs\n",
      "1195  Quy chế xây dựng, quản lý khai thác các hệ thố...     cccs\n",
      "1196  Nguyên tắc xây dựng, cập nhật, quản lý, khai t...     cccs\n",
      "1197  Đơn vị nào có trách nhiệm tổ chức thực hiện vi...     cccs\n",
      "1198  Thẩm quyền quyết định trong xây dựng, quản lý ...     cccs\n",
      "\n",
      "[1199 rows x 2 columns]\n"
     ]
    }
   ],
   "source": [
    "processd_data = pd.DataFrame(\n",
    "    {\n",
    "        \"text\": list(raw_data[\"question\"]),\n",
    "        \"label\": list(raw_data[\"topic\"])\n",
    "    }\n",
    ")\n",
    "print(processd_data)"
   ]
  },
  {
   "cell_type": "markdown",
   "id": "77849f45",
   "metadata": {},
   "source": [
    "## Lấy dữ liệu từ file excel TCKH"
   ]
  },
  {
   "cell_type": "code",
   "execution_count": 8,
   "id": "b54c6718",
   "metadata": {},
   "outputs": [],
   "source": [
    "raw_excel_data = pd.read_excel(\"../data/raw/Bộ câu hỏi - trả lời về Tài chính 23.06.2025.xlsx\", sheet_name='Báo cáo Tài chính 2020-2024')"
   ]
  },
  {
   "cell_type": "code",
   "execution_count": 9,
   "id": "d4a24193",
   "metadata": {},
   "outputs": [
    {
     "data": {
      "text/plain": [
       "0      Tổng doanh thu bán hàng và thu nhập năm 2020 c...\n",
       "1      Tổng doanh thu bán hàng và thu nhập năm 2021 c...\n",
       "2      Tổng doanh thu bán hàng và thu nhập năm 2022 c...\n",
       "3      Tăng trưởng tổng doanh thu bán hàng và cung cấ...\n",
       "4      Tăng trưởng doanh thu bán hàng và cung cấp dịc...\n",
       "                             ...                        \n",
       "166    Số phải nộp vào ngân sách nhà nước năm 2021 so...\n",
       "167    Số phải nộp vào ngân sách nhà nước năm 2022 so...\n",
       "168    Số phải nộp vào ngân sách nhà nước năm 2023 so...\n",
       "169    Số phải nộp vào ngân sách nhà nước năm 2024 so...\n",
       "170    Tốc độ tăng trưởng Số phải nộp vào ngân sách n...\n",
       "Name: Câu Hỏi , Length: 171, dtype: object"
      ]
     },
     "execution_count": 9,
     "metadata": {},
     "output_type": "execute_result"
    }
   ],
   "source": [
    "raw_excel_data['Câu Hỏi ']"
   ]
  },
  {
   "cell_type": "code",
   "execution_count": 10,
   "id": "5269f5b9",
   "metadata": {},
   "outputs": [],
   "source": [
    "processd_data = pd.concat([processd_data, pd.DataFrame({\"text\": list(raw_excel_data['Câu Hỏi ']), \"label\":['dtcp'] * len(raw_excel_data['Câu Hỏi '])})], ignore_index=True)"
   ]
  },
  {
   "cell_type": "code",
   "execution_count": 11,
   "id": "53877f8f",
   "metadata": {},
   "outputs": [
    {
     "data": {
      "text/html": [
       "<div>\n",
       "<style scoped>\n",
       "    .dataframe tbody tr th:only-of-type {\n",
       "        vertical-align: middle;\n",
       "    }\n",
       "\n",
       "    .dataframe tbody tr th {\n",
       "        vertical-align: top;\n",
       "    }\n",
       "\n",
       "    .dataframe thead th {\n",
       "        text-align: right;\n",
       "    }\n",
       "</style>\n",
       "<table border=\"1\" class=\"dataframe\">\n",
       "  <thead>\n",
       "    <tr style=\"text-align: right;\">\n",
       "      <th></th>\n",
       "      <th>text</th>\n",
       "      <th>label</th>\n",
       "    </tr>\n",
       "  </thead>\n",
       "  <tbody>\n",
       "    <tr>\n",
       "      <th>0</th>\n",
       "      <td>Thời gian gửi bưu kiện trong nước là bao lâu?</td>\n",
       "      <td>bccp_nd</td>\n",
       "    </tr>\n",
       "    <tr>\n",
       "      <th>1</th>\n",
       "      <td>Muốn gửi tài liệu đi hà nội theo đường bảo đảm...</td>\n",
       "      <td>bccp_nd</td>\n",
       "    </tr>\n",
       "    <tr>\n",
       "      <th>2</th>\n",
       "      <td>Thời gian vận chuyển Miền Bắc và Miền Nam mất ...</td>\n",
       "      <td>bccp_nd</td>\n",
       "    </tr>\n",
       "    <tr>\n",
       "      <th>3</th>\n",
       "      <td>Gửi hàng cho người thân cần những gì?</td>\n",
       "      <td>bccp_nd</td>\n",
       "    </tr>\n",
       "    <tr>\n",
       "      <th>4</th>\n",
       "      <td>Vận chuyển bên BĐ có được hỗ trợ thu gom không?</td>\n",
       "      <td>bccp_nd</td>\n",
       "    </tr>\n",
       "    <tr>\n",
       "      <th>...</th>\n",
       "      <td>...</td>\n",
       "      <td>...</td>\n",
       "    </tr>\n",
       "    <tr>\n",
       "      <th>1365</th>\n",
       "      <td>Số phải nộp vào ngân sách nhà nước năm 2021 so...</td>\n",
       "      <td>dtcp</td>\n",
       "    </tr>\n",
       "    <tr>\n",
       "      <th>1366</th>\n",
       "      <td>Số phải nộp vào ngân sách nhà nước năm 2022 so...</td>\n",
       "      <td>dtcp</td>\n",
       "    </tr>\n",
       "    <tr>\n",
       "      <th>1367</th>\n",
       "      <td>Số phải nộp vào ngân sách nhà nước năm 2023 so...</td>\n",
       "      <td>dtcp</td>\n",
       "    </tr>\n",
       "    <tr>\n",
       "      <th>1368</th>\n",
       "      <td>Số phải nộp vào ngân sách nhà nước năm 2024 so...</td>\n",
       "      <td>dtcp</td>\n",
       "    </tr>\n",
       "    <tr>\n",
       "      <th>1369</th>\n",
       "      <td>Tốc độ tăng trưởng Số phải nộp vào ngân sách n...</td>\n",
       "      <td>dtcp</td>\n",
       "    </tr>\n",
       "  </tbody>\n",
       "</table>\n",
       "<p>1370 rows × 2 columns</p>\n",
       "</div>"
      ],
      "text/plain": [
       "                                                   text    label\n",
       "0         Thời gian gửi bưu kiện trong nước là bao lâu?  bccp_nd\n",
       "1     Muốn gửi tài liệu đi hà nội theo đường bảo đảm...  bccp_nd\n",
       "2     Thời gian vận chuyển Miền Bắc và Miền Nam mất ...  bccp_nd\n",
       "3                 Gửi hàng cho người thân cần những gì?  bccp_nd\n",
       "4       Vận chuyển bên BĐ có được hỗ trợ thu gom không?  bccp_nd\n",
       "...                                                 ...      ...\n",
       "1365  Số phải nộp vào ngân sách nhà nước năm 2021 so...     dtcp\n",
       "1366  Số phải nộp vào ngân sách nhà nước năm 2022 so...     dtcp\n",
       "1367  Số phải nộp vào ngân sách nhà nước năm 2023 so...     dtcp\n",
       "1368  Số phải nộp vào ngân sách nhà nước năm 2024 so...     dtcp\n",
       "1369  Tốc độ tăng trưởng Số phải nộp vào ngân sách n...     dtcp\n",
       "\n",
       "[1370 rows x 2 columns]"
      ]
     },
     "execution_count": 11,
     "metadata": {},
     "output_type": "execute_result"
    }
   ],
   "source": [
    "processd_data"
   ]
  },
  {
   "cell_type": "code",
   "execution_count": 12,
   "id": "a40921ff",
   "metadata": {},
   "outputs": [
    {
     "data": {
      "image/png": "[encoded data removed]",
      "text/plain": [
       "<Figure size 800x500 with 1 Axes>"
      ]
     },
     "metadata": {},
     "output_type": "display_data"
    }
   ],
   "source": [
    "from collections import Counter\n",
    "import matplotlib.pyplot as plt\n",
    "\n",
    "topic_counts = Counter(processd_data['label'])\n",
    "\n",
    "plt.figure(figsize=(8, 5))\n",
    "plt.bar(topic_counts.keys(), topic_counts.values())\n",
    "plt.xlabel(\"Label\")\n",
    "plt.ylabel(\"Số lượng\")\n",
    "plt.title(\"Phân bổ câu theo nhãn (label)\")\n",
    "plt.show()"
   ]
  },
  {
   "cell_type": "markdown",
   "id": "45d031df",
   "metadata": {},
   "source": [
    "## Lấy dữ liệu tăng cường"
   ]
  },
  {
   "cell_type": "code",
   "execution_count": null,
   "id": "2a929bee",
   "metadata": {},
   "outputs": [],
   "source": [
    "bccp_qt_df = pd.read_json('../data/raw/augmentation/bccp_qt.jsonl', lines=True)\n",
    "hcc_df = pd.read_json('../data/raw/augmentation/hcc.jsonl', lines=True)\n",
    "ppbl_df = pd.read_json('../data/raw/augmentation/ppbl.jsonl', lines=True)\n",
    "dtcp_df = pd.read_json('../data/raw/augmentation/dtcp.jsonl', lines=True)"
   ]
  },
  {
   "cell_type": "code",
   "execution_count": 118,
   "id": "456db08f",
   "metadata": {},
   "outputs": [
    {
     "data": {
      "text/html": [
       "<div>\n",
       "<style scoped>\n",
       "    .dataframe tbody tr th:only-of-type {\n",
       "        vertical-align: middle;\n",
       "    }\n",
       "\n",
       "    .dataframe tbody tr th {\n",
       "        vertical-align: top;\n",
       "    }\n",
       "\n",
       "    .dataframe thead th {\n",
       "        text-align: right;\n",
       "    }\n",
       "</style>\n",
       "<table border=\"1\" class=\"dataframe\">\n",
       "  <thead>\n",
       "    <tr style=\"text-align: right;\">\n",
       "      <th></th>\n",
       "      <th>text</th>\n",
       "      <th>label</th>\n",
       "    </tr>\n",
       "  </thead>\n",
       "  <tbody>\n",
       "    <tr>\n",
       "      <th>0</th>\n",
       "      <td>Làm thế nào để tra cứu hành trình bưu gửi quốc...</td>\n",
       "      <td>bccp_qt</td>\n",
       "    </tr>\n",
       "    <tr>\n",
       "      <th>1</th>\n",
       "      <td>Gửi hàng đi nước ngoài có cần giấy tờ gì không?</td>\n",
       "      <td>bccp_qt</td>\n",
       "    </tr>\n",
       "    <tr>\n",
       "      <th>2</th>\n",
       "      <td>Bưu điện có gửi hồ sơ đi quốc tế không?</td>\n",
       "      <td>bccp_qt</td>\n",
       "    </tr>\n",
       "    <tr>\n",
       "      <th>3</th>\n",
       "      <td>Tôi cần gửi hợp đồng ra nước ngoài, nên chọn d...</td>\n",
       "      <td>bccp_qt</td>\n",
       "    </tr>\n",
       "    <tr>\n",
       "      <th>4</th>\n",
       "      <td>Có thể gửi đồ điện tử như máy ảnh ra nước ngoà...</td>\n",
       "      <td>bccp_qt</td>\n",
       "    </tr>\n",
       "    <tr>\n",
       "      <th>...</th>\n",
       "      <td>...</td>\n",
       "      <td>...</td>\n",
       "    </tr>\n",
       "    <tr>\n",
       "      <th>264</th>\n",
       "      <td>Tôi có thể gửi đồ điện tử đã qua sử dụng ra qu...</td>\n",
       "      <td>bccp_qt</td>\n",
       "    </tr>\n",
       "    <tr>\n",
       "      <th>265</th>\n",
       "      <td>Có thể gửi tài liệu, hồ sơ kèm bưu kiện quốc t...</td>\n",
       "      <td>bccp_qt</td>\n",
       "    </tr>\n",
       "    <tr>\n",
       "      <th>266</th>\n",
       "      <td>Tôi có thể gửi nguyên vật liệu ngành may mặc đ...</td>\n",
       "      <td>bccp_qt</td>\n",
       "    </tr>\n",
       "    <tr>\n",
       "      <th>267</th>\n",
       "      <td>Bưu điện có hỗ trợ hoàn thuế khi gửi hàng quốc...</td>\n",
       "      <td>bccp_qt</td>\n",
       "    </tr>\n",
       "    <tr>\n",
       "      <th>268</th>\n",
       "      <td>Tôi muốn gửi quần áo trẻ em, đồ chơi đi nước n...</td>\n",
       "      <td>bccp_qt</td>\n",
       "    </tr>\n",
       "  </tbody>\n",
       "</table>\n",
       "<p>269 rows × 2 columns</p>\n",
       "</div>"
      ],
      "text/plain": [
       "                                                  text    label\n",
       "0    Làm thế nào để tra cứu hành trình bưu gửi quốc...  bccp_qt\n",
       "1      Gửi hàng đi nước ngoài có cần giấy tờ gì không?  bccp_qt\n",
       "2              Bưu điện có gửi hồ sơ đi quốc tế không?  bccp_qt\n",
       "3    Tôi cần gửi hợp đồng ra nước ngoài, nên chọn d...  bccp_qt\n",
       "4    Có thể gửi đồ điện tử như máy ảnh ra nước ngoà...  bccp_qt\n",
       "..                                                 ...      ...\n",
       "264  Tôi có thể gửi đồ điện tử đã qua sử dụng ra qu...  bccp_qt\n",
       "265  Có thể gửi tài liệu, hồ sơ kèm bưu kiện quốc t...  bccp_qt\n",
       "266  Tôi có thể gửi nguyên vật liệu ngành may mặc đ...  bccp_qt\n",
       "267  Bưu điện có hỗ trợ hoàn thuế khi gửi hàng quốc...  bccp_qt\n",
       "268  Tôi muốn gửi quần áo trẻ em, đồ chơi đi nước n...  bccp_qt\n",
       "\n",
       "[269 rows x 2 columns]"
      ]
     },
     "execution_count": 118,
     "metadata": {},
     "output_type": "execute_result"
    }
   ],
   "source": [
    "bccp_qt_df"
   ]
  },
  {
   "cell_type": "code",
   "execution_count": 119,
   "id": "1a8003e3",
   "metadata": {},
   "outputs": [],
   "source": [
    "processd_data = pd.concat([processd_data, bccp_qt_df], ignore_index=True)\n",
    "processd_data = pd.concat([processd_data, hcc_df], ignore_index=True)\n",
    "processd_data = pd.concat([processd_data, ppbl_df], ignore_index=True)\n",
    "processd_data = pd.concat([processd_data, dtcp_df], ignore_index=True)"
   ]
  },
  {
   "cell_type": "markdown",
   "id": "ac0e59cd",
   "metadata": {},
   "source": [
    "## Visualize dữ liệu"
   ]
  },
  {
   "cell_type": "code",
   "execution_count": 120,
   "id": "c10c815f",
   "metadata": {},
   "outputs": [],
   "source": [
    "from collections import Counter\n",
    "import matplotlib.pyplot as plt"
   ]
  },
  {
   "cell_type": "code",
   "execution_count": 121,
   "id": "c71edbcb",
   "metadata": {},
   "outputs": [
    {
     "data": {
      "text/plain": [
       "Counter({'ppbl': 364,\n",
       "         'bccp_qt': 354,\n",
       "         'hcc': 344,\n",
       "         'tcbc': 341,\n",
       "         'dtcp': 341,\n",
       "         'bccp_nd': 339,\n",
       "         'cccs': 334})"
      ]
     },
     "execution_count": 121,
     "metadata": {},
     "output_type": "execute_result"
    }
   ],
   "source": [
    "topic_counts = Counter(processd_data['label'])\n",
    "topic_counts"
   ]
  },
  {
   "cell_type": "code",
   "execution_count": 122,
   "id": "8d2af425",
   "metadata": {},
   "outputs": [
    {
     "data": {
      "image/png": "[encoded data removed]",
      "text/plain": [
       "<Figure size 800x500 with 1 Axes>"
      ]
     },
     "metadata": {},
     "output_type": "display_data"
    }
   ],
   "source": [
    "plt.figure(figsize=(8, 5))\n",
    "plt.bar(topic_counts.keys(), topic_counts.values())\n",
    "plt.xlabel(\"Label\")\n",
    "plt.ylabel(\"Số lượng\")\n",
    "plt.title(\"Phân bổ câu theo nhãn (label)\")\n",
    "plt.show()"
   ]
  },
  {
   "cell_type": "markdown",
   "id": "81a8996d",
   "metadata": {},
   "source": [
    "## Lưu dữ liệu vào jsonl"
   ]
  },
  {
   "cell_type": "code",
   "execution_count": null,
   "id": "1b01bc09",
   "metadata": {},
   "outputs": [],
   "source": [
    "processd_data.to_json('../data/raw/all_data/intent_data.jsonl', orient='records', lines=True, force_ascii=False)"
   ]
  },
  {
   "cell_type": "code",
   "execution_count": 103,
   "id": "b5157235",
   "metadata": {},
   "outputs": [],
   "source": [
    "import json"
   ]
  },
  {
   "cell_type": "code",
   "execution_count": 106,
   "id": "f8e23af3",
   "metadata": {},
   "outputs": [],
   "source": [
    "label2id = {\n",
    "    #\"bd_vhx\": 0,    # Quy định chung cho hoạt động của BĐ VHX\n",
    "    \"bccp_nd\": 1,   # Dịch vụ Bưu chính chuyển phát Nội địa\n",
    "    \"bccp_qt\": 2,   # Dịch vụ Bưu chính chuyển phát Quốc tế\n",
    "    \"tcbc\": 3,      # Dịch vụ Tài chính Bưu chính\n",
    "    \"ppbl\": 4,      # Dịch vụ Phân phối bán lẻ\n",
    "    \"hcc\": 5,       # Dịch vụ Hành chính công\n",
    "    \"cccs\": 6,      # Cơ chế chính sách\t\n",
    "    \"dtcp\": 7,      # Doanh thu chi phí\n",
    "    #\"dvt\": 8,       # Định vị tin\n",
    "    #\"dtpt\": 9,      # Đầu tư Phát triển\n",
    "    #\"ttds\": 10,     # Lĩnh vực Đối soát\n",
    "    #\"vptl\": 11,     # Lĩnh vực Văn phòng\n",
    "    #\"temBC\": 12,    # Tem Bưu chính\n",
    "    #\"ktpc\": 13,     # Kiểm tra Pháp chế\n",
    "    #\"dvkh\": 14,     # Dịch vụ Khách hàng\n",
    "    #\"ncpt\": 15,     # Nghiên cứu Phát triển & Thương hiệu\n",
    "    #\"qlcl\": 16,     # Quản lý Chất lượng\n",
    "    #\"ktcn\": 17,     # Kỹ thuật Công nghệ\n",
    "}\n",
    "\n",
    "with open('../data/processed/label2id.json', 'w') as f:\n",
    "    f.write(json.dumps(label2id, indent=4))"
   ]
  },
  {
   "cell_type": "markdown",
   "id": "7a6116a6",
   "metadata": {},
   "source": [
    "## Chia dữ liệu thành tập Train, Validation, Test theo tỷ lệ 6 2 2"
   ]
  },
  {
   "cell_type": "code",
   "execution_count": 127,
   "id": "1931978f",
   "metadata": {},
   "outputs": [],
   "source": [
    "from sklearn.model_selection import train_test_split"
   ]
  },
  {
   "cell_type": "code",
   "execution_count": null,
   "id": "eba195b9",
   "metadata": {},
   "outputs": [],
   "source": [
    "df = pd.read_json('../data/raw/all_data/intent_data.jsonl', lines=True)"
   ]
  },
  {
   "cell_type": "code",
   "execution_count": 126,
   "id": "e88d1637",
   "metadata": {},
   "outputs": [
    {
     "data": {
      "text/html": [
       "<div>\n",
       "<style scoped>\n",
       "    .dataframe tbody tr th:only-of-type {\n",
       "        vertical-align: middle;\n",
       "    }\n",
       "\n",
       "    .dataframe tbody tr th {\n",
       "        vertical-align: top;\n",
       "    }\n",
       "\n",
       "    .dataframe thead th {\n",
       "        text-align: right;\n",
       "    }\n",
       "</style>\n",
       "<table border=\"1\" class=\"dataframe\">\n",
       "  <thead>\n",
       "    <tr style=\"text-align: right;\">\n",
       "      <th></th>\n",
       "      <th>text</th>\n",
       "      <th>label</th>\n",
       "    </tr>\n",
       "  </thead>\n",
       "  <tbody>\n",
       "    <tr>\n",
       "      <th>0</th>\n",
       "      <td>Thời gian gửi bưu kiện trong nước là bao lâu?</td>\n",
       "      <td>bccp_nd</td>\n",
       "    </tr>\n",
       "    <tr>\n",
       "      <th>1</th>\n",
       "      <td>Muốn gửi tài liệu đi hà nội theo đường bảo đảm...</td>\n",
       "      <td>bccp_nd</td>\n",
       "    </tr>\n",
       "    <tr>\n",
       "      <th>2</th>\n",
       "      <td>Thời gian vận chuyển Miền Bắc và Miền Nam mất ...</td>\n",
       "      <td>bccp_nd</td>\n",
       "    </tr>\n",
       "    <tr>\n",
       "      <th>3</th>\n",
       "      <td>Gửi hàng cho người thân cần những gì?</td>\n",
       "      <td>bccp_nd</td>\n",
       "    </tr>\n",
       "    <tr>\n",
       "      <th>4</th>\n",
       "      <td>Vận chuyển bên BĐ có được hỗ trợ thu gom không?</td>\n",
       "      <td>bccp_nd</td>\n",
       "    </tr>\n",
       "    <tr>\n",
       "      <th>...</th>\n",
       "      <td>...</td>\n",
       "      <td>...</td>\n",
       "    </tr>\n",
       "    <tr>\n",
       "      <th>2412</th>\n",
       "      <td>Doanh thu trung bình hàng tháng năm 2023 của T...</td>\n",
       "      <td>dtcp</td>\n",
       "    </tr>\n",
       "    <tr>\n",
       "      <th>2413</th>\n",
       "      <td>Tổng công ty Bưu điện Việt Nam có đạt chỉ tiêu...</td>\n",
       "      <td>dtcp</td>\n",
       "    </tr>\n",
       "    <tr>\n",
       "      <th>2414</th>\n",
       "      <td>Chi phí vận hành trung bình mỗi tháng năm 2022...</td>\n",
       "      <td>dtcp</td>\n",
       "    </tr>\n",
       "    <tr>\n",
       "      <th>2415</th>\n",
       "      <td>Tổng doanh thu dịch vụ công ích năm 2023 của B...</td>\n",
       "      <td>dtcp</td>\n",
       "    </tr>\n",
       "    <tr>\n",
       "      <th>2416</th>\n",
       "      <td>Doanh thu dịch vụ hành chính công trực tuyến n...</td>\n",
       "      <td>dtcp</td>\n",
       "    </tr>\n",
       "  </tbody>\n",
       "</table>\n",
       "<p>2417 rows × 2 columns</p>\n",
       "</div>"
      ],
      "text/plain": [
       "                                                   text    label\n",
       "0         Thời gian gửi bưu kiện trong nước là bao lâu?  bccp_nd\n",
       "1     Muốn gửi tài liệu đi hà nội theo đường bảo đảm...  bccp_nd\n",
       "2     Thời gian vận chuyển Miền Bắc và Miền Nam mất ...  bccp_nd\n",
       "3                 Gửi hàng cho người thân cần những gì?  bccp_nd\n",
       "4       Vận chuyển bên BĐ có được hỗ trợ thu gom không?  bccp_nd\n",
       "...                                                 ...      ...\n",
       "2412  Doanh thu trung bình hàng tháng năm 2023 của T...     dtcp\n",
       "2413  Tổng công ty Bưu điện Việt Nam có đạt chỉ tiêu...     dtcp\n",
       "2414  Chi phí vận hành trung bình mỗi tháng năm 2022...     dtcp\n",
       "2415  Tổng doanh thu dịch vụ công ích năm 2023 của B...     dtcp\n",
       "2416  Doanh thu dịch vụ hành chính công trực tuyến n...     dtcp\n",
       "\n",
       "[2417 rows x 2 columns]"
      ]
     },
     "execution_count": 126,
     "metadata": {},
     "output_type": "execute_result"
    }
   ],
   "source": [
    "df"
   ]
  },
  {
   "cell_type": "code",
   "execution_count": 130,
   "id": "32efd4d2",
   "metadata": {},
   "outputs": [],
   "source": [
    "train_df, val_test_df = train_test_split(\n",
    "    df,\n",
    "    test_size=0.4,\n",
    "    stratify=df[\"label\"],\n",
    "    random_state=42\n",
    ")\n",
    "\n",
    "val_df, test_df = train_test_split(\n",
    "    val_test_df,\n",
    "    test_size=0.5,\n",
    "    stratify=val_test_df[\"label\"],\n",
    "    random_state=42\n",
    ")"
   ]
  },
  {
   "cell_type": "code",
   "execution_count": null,
   "id": "7187d656",
   "metadata": {},
   "outputs": [],
   "source": [
    "train_df.to_json('../data/raw/splited_data/train.jsonl', orient='records', lines=True, force_ascii=False)\n",
    "val_df.to_json('../data/raw/splited_data/validation.jsonl', orient='records', lines=True, force_ascii=False)\n",
    "test_df.to_json('../data/raw/splited_data/test.jsonl', orient='records', lines=True, force_ascii=False)"
   ]
  },
  {
   "cell_type": "code",
   "execution_count": 135,
   "id": "339b4a95",
   "metadata": {},
   "outputs": [
    {
     "name": "stdout",
     "output_type": "stream",
     "text": [
      "Train:\n",
      " label\n",
      "ppbl       218\n",
      "bccp_qt    212\n",
      "hcc        206\n",
      "dtcp       205\n",
      "tcbc       205\n",
      "bccp_nd    203\n",
      "cccs       201\n",
      "Name: count, dtype: int64\n",
      "Val:\n",
      " label\n",
      "ppbl       73\n",
      "bccp_qt    71\n",
      "hcc        69\n",
      "tcbc       68\n",
      "bccp_nd    68\n",
      "dtcp       68\n",
      "cccs       66\n",
      "Name: count, dtype: int64\n",
      "Test:\n",
      " label\n",
      "ppbl       73\n",
      "bccp_qt    71\n",
      "hcc        69\n",
      "bccp_nd    68\n",
      "dtcp       68\n",
      "tcbc       68\n",
      "cccs       67\n",
      "Name: count, dtype: int64\n"
     ]
    }
   ],
   "source": [
    "print(\"Train:\\n\", train_df[\"label\"].value_counts())\n",
    "print(\"Val:\\n\", val_df[\"label\"].value_counts())\n",
    "print(\"Test:\\n\", test_df[\"label\"].value_counts())"
   ]
  },
  {
   "cell_type": "code",
   "execution_count": null,
   "id": "3bd1a99a",
   "metadata": {},
   "outputs": [],
   "source": []
  }
 ],
 "metadata": {
  "kernelspec": {
   "display_name": "intent-classification-vnp",
   "language": "python",
   "name": "python3"
  },
  "language_info": {
   "codemirror_mode": {
    "name": "ipython",
    "version": 3
   },
   "file_extension": ".py",
   "mimetype": "text/x-python",
   "name": "python",
   "nbconvert_exporter": "python",
   "pygments_lexer": "ipython3",
   "version": "3.11.13"
  }
 },
 "nbformat": 4,
 "nbformat_minor": 5
}
